{
 "cells": [
  {
   "cell_type": "code",
   "execution_count": 1,
   "id": "copyrighted-detroit",
   "metadata": {},
   "outputs": [],
   "source": [
    "import torch as tf"
   ]
  },
  {
   "cell_type": "code",
   "execution_count": 6,
   "id": "stock-charger",
   "metadata": {},
   "outputs": [
    {
     "data": {
      "text/plain": [
       "tensor([-0.5428, -1.4115, -1.0577, -1.7795, -0.8281])"
      ]
     },
     "execution_count": 6,
     "metadata": {},
     "output_type": "execute_result"
    }
   ],
   "source": [
    "a = tf.randn((64,1,28,28))\n",
    "a[0][0][0][:5]"
   ]
  },
  {
   "cell_type": "code",
   "execution_count": 5,
   "id": "musical-oxygen",
   "metadata": {},
   "outputs": [],
   "source": [
    "conv = tf.nn.Conv2d(1, 40, 3, 1)"
   ]
  },
  {
   "cell_type": "code",
   "execution_count": null,
   "id": "acting-investing",
   "metadata": {},
   "outputs": [],
   "source": []
  }
 ],
 "metadata": {
  "kernelspec": {
   "display_name": "Python 3",
   "language": "python",
   "name": "python3"
  },
  "language_info": {
   "codemirror_mode": {
    "name": "ipython",
    "version": 3
   },
   "file_extension": ".py",
   "mimetype": "text/x-python",
   "name": "python",
   "nbconvert_exporter": "python",
   "pygments_lexer": "ipython3",
   "version": "3.6.12"
  }
 },
 "nbformat": 4,
 "nbformat_minor": 5
}

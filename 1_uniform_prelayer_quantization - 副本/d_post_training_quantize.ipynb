{
 "cells": [
  {
   "cell_type": "code",
   "execution_count": null,
   "id": "overhead-teacher",
   "metadata": {},
   "outputs": [],
   "source": [
    "import Ipynb_importer\n",
    "from a_basic_quant import *\n",
    "from b_model import *\n",
    "from c_train_and_test import *"
   ]
  },
  {
   "cell_type": "code",
   "execution_count": null,
   "id": "excessive-outreach",
   "metadata": {},
   "outputs": [],
   "source": [
    "import time\n",
    "\n",
    "device = torch.device('cuda' if torch.cuda.is_available() else 'cpu')"
   ]
  },
  {
   "cell_type": "code",
   "execution_count": null,
   "id": "abroad-artwork",
   "metadata": {},
   "outputs": [],
   "source": [
    "def full_inference(model, test_loader):\n",
    "    correct = 0\n",
    "    torch.cuda.synchronize()\n",
    "    start = time.time()\n",
    "    for idx, (datas, targets) in enumerate(test_loader, 1):\n",
    "        datas, targets = datas.to(device), targets.to(device)\n",
    "        output = model(datas)\n",
    "        pred = output.argmax(dim=1, keepdim=True)\n",
    "        correct += pred.eq(targets.view_as(pred)).sum().item()\n",
    "    torch.cuda.synchronize()\n",
    "    end = time.time()\n",
    "    print(\"full inference time: \",end-start)\n",
    "    print('\\nTest set: Full Model Accuracy: {:.0f}%\\n'.format(100. * correct / len(test_loader.dataset)))\n"
   ]
  },
  {
   "cell_type": "code",
   "execution_count": null,
   "id": "adverse-computer",
   "metadata": {},
   "outputs": [],
   "source": [
    "def direct_quantize(model, test_loader):\n",
    "    for idx ,(datas, targets) in enumerate(test_loader,1):\n",
    "        datas, targets = datas.to(device), targets.to(device)\n",
    "        output = model.quantize_forward(datas)\n",
    "        if idx % 500 == 0:\n",
    "            break\n",
    "    model.freeze()\n",
    "    print('direct quantization finish')"
   ]
  },
  {
   "cell_type": "code",
   "execution_count": null,
   "id": "periodic-fossil",
   "metadata": {},
   "outputs": [],
   "source": [
    "def quantize_inference(model, test_loader):\n",
    "    correct = 0\n",
    "    torch.cuda.synchronize()\n",
    "    start = time.time()\n",
    "    for i, (datas, targets) in enumerate(test_loader, 1):\n",
    "        datas, targets = datas.to(device), targets.to(device)\n",
    "        output = model.quantize_inference(datas)\n",
    "        pred = output.argmax(dim=1, keepdim=True)\n",
    "        correct += pred.eq(targets.view_as(pred)).sum().item()\n",
    "    torch.cuda.synchronize()\n",
    "    end = time.time()\n",
    "    print(\"quantize inference time: \",end-start)\n",
    "    print('\\nTest set: Quant Model Accuracy: {:.0f}%\\n'.format(100. * correct / len(test_loader.dataset)))\n"
   ]
  },
  {
   "cell_type": "code",
   "execution_count": null,
   "id": "black-workshop",
   "metadata": {},
   "outputs": [],
   "source": [
    "def main():\n",
    "    batch_size = 64\n",
    "    test_batch_size = 64\n",
    "    using_bn = False\n",
    "    \n",
    "    train_loader, test_loader = dataset_loader(batch_size, test_batch_size)\n",
    "    \n",
    "    if using_bn:\n",
    "        model = NetBN().to(device)\n",
    "        model.load_state_dict(torch.load('ckpt/mnist_cnnbn.pt'))\n",
    "    else:\n",
    "        model = Net().to(device)\n",
    "        model.load_state_dict(torch.load('ckpt/mnist_cnn.pt'))\n",
    "    \n",
    "    model.eval()\n",
    "    full_inference(model, test_loader)\n",
    "    full_inference(model, test_loader)\n",
    "\n",
    "    num_bits = 8\n",
    "    print('Quantization bit: %d' % num_bits)\n",
    "    model.quantize_init(num_bits=num_bits)\n",
    "    \n",
    "    model.eval()\n",
    "    direct_quantize(model, train_loader)\n",
    "    quantize_inference(model, test_loader)\n",
    "    \n",
    "#     from torchsummary import summary \n",
    "#     summary(model.to('cuda'), (1,28,28))"
   ]
  },
  {
   "cell_type": "code",
   "execution_count": null,
   "id": "collaborative-charm",
   "metadata": {},
   "outputs": [],
   "source": [
    "if __name__ == \"__main__\":\n",
    "    main()"
   ]
  },
  {
   "cell_type": "code",
   "execution_count": null,
   "id": "coastal-rating",
   "metadata": {},
   "outputs": [],
   "source": []
  }
 ],
 "metadata": {
  "kernelspec": {
   "display_name": "Python 3",
   "language": "python",
   "name": "python3"
  },
  "language_info": {
   "codemirror_mode": {
    "name": "ipython",
    "version": 3
   },
   "file_extension": ".py",
   "mimetype": "text/x-python",
   "name": "python",
   "nbconvert_exporter": "python",
   "pygments_lexer": "ipython3",
   "version": "3.7.10"
  }
 },
 "nbformat": 4,
 "nbformat_minor": 5
}

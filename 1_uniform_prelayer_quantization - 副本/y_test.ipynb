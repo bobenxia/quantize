{
 "cells": [
  {
   "cell_type": "code",
   "execution_count": 1,
   "id": "animal-scope",
   "metadata": {},
   "outputs": [
    {
     "name": "stdout",
     "output_type": "stream",
     "text": [
      "importing Jupyter notebook from a_basic_quant.ipynb\n",
      "importing Jupyter notebook from b_model.ipynb\n",
      "importing Jupyter notebook from c_train_and_test.ipynb\n",
      "importing Jupyter notebook from d_post_training_quantize.ipynb\n"
     ]
    }
   ],
   "source": [
    "import Ipynb_importer\n",
    "from a_basic_quant import *\n",
    "from b_model import *\n",
    "from c_train_and_test import *\n",
    "from d_post_training_quantize import *"
   ]
  },
  {
   "cell_type": "markdown",
   "id": "recreational-patent",
   "metadata": {},
   "source": [
    "## 1、理解量化过程·教程\n",
    "### 1.1 获得一个输入 torch.tensor"
   ]
  },
  {
   "cell_type": "code",
   "execution_count": 2,
   "id": "organic-marketing",
   "metadata": {},
   "outputs": [
    {
     "data": {
      "text/plain": [
       "tensor([[   9.2214,   44.6691,  -28.8391],\n",
       "        [-173.1100,   36.1256,  159.3336]])"
      ]
     },
     "execution_count": 2,
     "metadata": {},
     "output_type": "execute_result"
    }
   ],
   "source": [
    "x = torch.randn(2,3) *100\n",
    "x"
   ]
  },
  {
   "cell_type": "markdown",
   "id": "valid-ratio",
   "metadata": {},
   "source": [
    "### 1.2 获得 x 的最大值和最小值，确定上下限"
   ]
  },
  {
   "cell_type": "code",
   "execution_count": 3,
   "id": "geological-addiction",
   "metadata": {},
   "outputs": [
    {
     "name": "stdout",
     "output_type": "stream",
     "text": [
      "max_val: 159.3336181640625 \n",
      "min_val:-173.10995483398438\n"
     ]
    }
   ],
   "source": [
    "max_val = x.max()\n",
    "min_val = x.min()\n",
    "print(f\"max_val: {max_val} \\nmin_val:{min_val}\")"
   ]
  },
  {
   "cell_type": "markdown",
   "id": "standard-plasma",
   "metadata": {},
   "source": [
    "### 1.3 计算缩放因子 scare, 零点 zero_point"
   ]
  },
  {
   "cell_type": "code",
   "execution_count": 4,
   "id": "specified-colon",
   "metadata": {},
   "outputs": [
    {
     "name": "stdout",
     "output_type": "stream",
     "text": [
      "scale: 1.30370032787323 \n",
      "zero_point: 132.0\n"
     ]
    }
   ],
   "source": [
    "scale, zero_point = calcu_scale_and_zeropoint(min_val, max_val)\n",
    "print(f\"scale: {scale} \\nzero_point: {zero_point}\")"
   ]
  },
  {
   "cell_type": "markdown",
   "id": "stunning-alloy",
   "metadata": {},
   "source": [
    "### 1.4 进行量化"
   ]
  },
  {
   "cell_type": "code",
   "execution_count": 5,
   "id": "miniature-percentage",
   "metadata": {},
   "outputs": [
    {
     "data": {
      "text/plain": [
       "tensor([[139, 166, 109],\n",
       "        [  0, 159, 254]], dtype=torch.uint8)"
      ]
     },
     "execution_count": 5,
     "metadata": {},
     "output_type": "execute_result"
    }
   ],
   "source": [
    "q_x = quantize_tensor(x, scale, zero_point)\n",
    "q_x"
   ]
  },
  {
   "cell_type": "markdown",
   "id": "mineral-passing",
   "metadata": {},
   "source": [
    "### 1.5 反量化"
   ]
  },
  {
   "cell_type": "code",
   "execution_count": 9,
   "id": "natural-video",
   "metadata": {},
   "outputs": [
    {
     "name": "stdout",
     "output_type": "stream",
     "text": [
      "原始值：\n",
      "tensor([[   9.2214,   44.6691,  -28.8391],\n",
      "        [-173.1100,   36.1256,  159.3336]]) \n",
      "量化反量化：\n",
      "tensor([[   9.1259,   44.3258,  -29.9851],\n",
      "        [-172.0884,   35.1999,  159.0514]])\n"
     ]
    }
   ],
   "source": [
    "x_q_x = dequantize_tensor(q_x, scale, zero_point)\n",
    "\n",
    "print(f\"原始值：\\n{x} \\n量化反量化：\\n{x_q_x}\")"
   ]
  },
  {
   "cell_type": "code",
   "execution_count": null,
   "id": "suited-picture",
   "metadata": {},
   "outputs": [],
   "source": []
  }
 ],
 "metadata": {
  "kernelspec": {
   "display_name": "Python 3",
   "language": "python",
   "name": "python3"
  },
  "language_info": {
   "codemirror_mode": {
    "name": "ipython",
    "version": 3
   },
   "file_extension": ".py",
   "mimetype": "text/x-python",
   "name": "python",
   "nbconvert_exporter": "python",
   "pygments_lexer": "ipython3",
   "version": "3.7.10"
  }
 },
 "nbformat": 4,
 "nbformat_minor": 5
}

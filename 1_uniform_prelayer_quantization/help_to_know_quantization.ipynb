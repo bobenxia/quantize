{
 "cells": [
  {
   "cell_type": "code",
   "execution_count": 2,
   "id": "silent-senate",
   "metadata": {},
   "outputs": [
    {
     "name": "stdout",
     "output_type": "stream",
     "text": [
      "importing Jupyter notebook from a_basic_quant.ipynb\n",
      "importing Jupyter notebook from b_model.ipynb\n",
      "importing Jupyter notebook from c_train_and_test.ipynb\n",
      "importing Jupyter notebook from d_post_training_quantize.ipynb\n"
     ]
    }
   ],
   "source": [
    "import Ipynb_importer\n",
    "from a_basic_quant import *\n",
    "from b_model import *\n",
    "from c_train_and_test import *\n",
    "from d_post_training_quantize import *"
   ]
  },
  {
   "cell_type": "markdown",
   "id": "rubber-tonight",
   "metadata": {},
   "source": [
    "## 1、理解量化过程·教程\n",
    "### 1.1 获得一个输入 torch.tensor"
   ]
  },
  {
   "cell_type": "code",
   "execution_count": 3,
   "id": "tracked-ceramic",
   "metadata": {},
   "outputs": [
    {
     "data": {
      "text/plain": [
       "tensor([[-40.3169, -50.4716,  39.6022],\n",
       "        [ 74.3491, -97.0853,  78.7182]])"
      ]
     },
     "execution_count": 3,
     "metadata": {},
     "output_type": "execute_result"
    }
   ],
   "source": [
    "x = torch.randn(2,3) *100\n",
    "x"
   ]
  },
  {
   "cell_type": "markdown",
   "id": "invalid-allocation",
   "metadata": {},
   "source": [
    "### 1.2 获得 x 的最大值和最小值，确定上下限"
   ]
  },
  {
   "cell_type": "code",
   "execution_count": 4,
   "id": "super-woman",
   "metadata": {},
   "outputs": [
    {
     "name": "stdout",
     "output_type": "stream",
     "text": [
      "max_val: 78.71824645996094 \n",
      "min_val:-97.08525848388672\n"
     ]
    }
   ],
   "source": [
    "max_val = x.max()\n",
    "min_val = x.min()\n",
    "print(f\"max_val: {max_val} \\nmin_val:{min_val}\")"
   ]
  },
  {
   "cell_type": "markdown",
   "id": "needed-killer",
   "metadata": {},
   "source": [
    "### 1.3 计算缩放因子 scare, 零点 zero_point"
   ]
  },
  {
   "cell_type": "code",
   "execution_count": 5,
   "id": "taken-example",
   "metadata": {},
   "outputs": [
    {
     "name": "stdout",
     "output_type": "stream",
     "text": [
      "scale: 0.6894254684448242 \n",
      "zero_point: 140.0\n"
     ]
    }
   ],
   "source": [
    "scale, zero_point = calcu_scale_and_zeropoint(min_val, max_val)\n",
    "print(f\"scale: {scale} \\nzero_point: {zero_point}\")"
   ]
  },
  {
   "cell_type": "markdown",
   "id": "loaded-eagle",
   "metadata": {},
   "source": [
    "### 1.4 进行量化"
   ]
  },
  {
   "cell_type": "code",
   "execution_count": 6,
   "id": "anonymous-knight",
   "metadata": {},
   "outputs": [
    {
     "data": {
      "text/plain": [
       "tensor([[ 81,  66, 197],\n",
       "        [247,   0, 254]], dtype=torch.int32)"
      ]
     },
     "execution_count": 6,
     "metadata": {},
     "output_type": "execute_result"
    }
   ],
   "source": [
    "q_x = quantize_tensor(x, scale, zero_point).int()\n",
    "q_x"
   ]
  },
  {
   "cell_type": "markdown",
   "id": "neither-nebraska",
   "metadata": {},
   "source": [
    "### 1.5 反量化"
   ]
  },
  {
   "cell_type": "code",
   "execution_count": 7,
   "id": "worthy-vegetarian",
   "metadata": {},
   "outputs": [
    {
     "name": "stdout",
     "output_type": "stream",
     "text": [
      "原始值：\n",
      "tensor([[-40.3169, -50.4716,  39.6022],\n",
      "        [ 74.3491, -97.0853,  78.7182]]) \n",
      "量化反量化：\n",
      "tensor([[-40.6761, -51.0175,  39.2973],\n",
      "        [ 73.7685, -96.5196,  78.5945]])\n"
     ]
    }
   ],
   "source": [
    "x_q_x = dequantize_tensor(q_x, scale, zero_point)\n",
    "\n",
    "print(f\"原始值：\\n{x} \\n量化反量化：\\n{x_q_x}\")"
   ]
  },
  {
   "cell_type": "code",
   "execution_count": null,
   "id": "substantial-prerequisite",
   "metadata": {},
   "outputs": [],
   "source": []
  }
 ],
 "metadata": {
  "kernelspec": {
   "display_name": "Python 3",
   "language": "python",
   "name": "python3"
  },
  "language_info": {
   "codemirror_mode": {
    "name": "ipython",
    "version": 3
   },
   "file_extension": ".py",
   "mimetype": "text/x-python",
   "name": "python",
   "nbconvert_exporter": "python",
   "pygments_lexer": "ipython3",
   "version": "3.6.12"
  }
 },
 "nbformat": 4,
 "nbformat_minor": 5
}

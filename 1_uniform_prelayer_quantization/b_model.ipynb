{
 "cells": [
  {
   "cell_type": "code",
   "execution_count": 3,
   "id": "sealed-healing",
   "metadata": {},
   "outputs": [
    {
     "name": "stdout",
     "output_type": "stream",
     "text": [
      "importing Jupyter notebook from a_basic_quant.ipynb\n"
     ]
    }
   ],
   "source": [
    "import Ipynb_importer\n",
    "from a_basic_quant import *"
   ]
  },
  {
   "cell_type": "markdown",
   "id": "magnetic-broadway",
   "metadata": {},
   "source": [
    "### 1、定义基本模型（无bn）"
   ]
  },
  {
   "cell_type": "code",
   "execution_count": 2,
   "id": "swiss-substance",
   "metadata": {},
   "outputs": [],
   "source": [
    "class Net(nn.Module):\n",
    "\n",
    "    def __init__(self, num_channels=1):\n",
    "        super(Net, self).__init__()\n",
    "        self.conv1 = nn.Conv2d(num_channels, 40, 3, 1)\n",
    "        self.conv2 = nn.Conv2d(40, 40, 3, 1, groups=20)\n",
    "        self.fc = nn.Linear(5*5*40, 10)\n",
    "    \n",
    "    # 正常模型推理\n",
    "    def forward(self, x):\n",
    "        x = F.relu(self.conv1(x))\n",
    "        x = F.max_pool2d(x, 2, 2)\n",
    "        x = F.relu(self.conv2(x))\n",
    "        x = F.max_pool2d(x, 2, 2)\n",
    "        x = x.view(-1, 5*5*40)\n",
    "        x = self.fc(x)\n",
    "        return x\n",
    "\n",
    "    def quantize_init(self, num_bits=8):\n",
    "        # 根据 num_bits 初始化变量（存储每个层量化后的参数和激活值）\n",
    "        self.qconv1 = QConv2d(self.conv1, has_qin=True, has_qout=True, num_bits=num_bits)\n",
    "        self.qrelu1 = QReLU()\n",
    "        self.qmaxpool2d_1 = QMaxPooling2d(kernel_size=2, stride=2, padding=0)\n",
    "        self.qconv2 = QConv2d(self.conv2, has_qin=False, has_qout=True, num_bits=num_bits)\n",
    "        self.qrelu2 = QReLU()\n",
    "        self.qmaxpool2d_2 = QMaxPooling2d(kernel_size=2, stride=2, padding=0)\n",
    "        self.qfc = QLinear(self.fc, has_qin=False, has_qout=True, num_bits=num_bits)\n",
    "\n",
    "    def quantize_forward(self, x):\n",
    "        # 统计参数|激活值的 min、max，计算scale和zero_point\n",
    "        x = self.qconv1(x)\n",
    "        x = self.qrelu1(x)\n",
    "        x = self.qmaxpool2d_1(x)\n",
    "        x = self.qconv2(x)\n",
    "        x = self.qrelu2(x)\n",
    "        x = self.qmaxpool2d_2(x)\n",
    "        x = x.view(-1, 5*5*40)\n",
    "        x = self.qfc(x)\n",
    "        return x\n",
    "\n",
    "    def freeze(self):\n",
    "        # 在得到计算的scale和zero_point后，量化权值和偏置\n",
    "        self.qconv1.freeze()\n",
    "        self.qrelu1.freeze(self.qconv1.q_out)\n",
    "        self.qmaxpool2d_1.freeze(self.qconv1.q_out)\n",
    "        self.qconv2.freeze(q_in=self.qconv1.q_out)\n",
    "        self.qrelu2.freeze(self.qconv2.q_out)\n",
    "        self.qmaxpool2d_2.freeze(self.qconv2.q_out)\n",
    "        self.qfc.freeze(q_in=self.qconv2.q_out)\n",
    "\n",
    "    def quantize_inference(self, x):\n",
    "        # 量化推理使用的函数\n",
    "        qx = self.qconv1.q_in.quantize_tensor(x)  # 输入量化到int8\n",
    "        qx = self.qconv1.quantize_inference(qx)\n",
    "        qx = self.qrelu1.quantize_inference(qx)\n",
    "        qx = self.qmaxpool2d_1.quantize_inference(qx)\n",
    "        qx = self.qconv2.quantize_inference(qx)\n",
    "        qx = self.qrelu2.quantize_inference(qx)\n",
    "        qx = self.qmaxpool2d_2.quantize_inference(qx)\n",
    "        qx = qx.view(-1, 5*5*40)\n",
    "        qx = self.qfc.quantize_inference(qx)\n",
    "        out = self.qfc.q_out.dequantize_tensor(qx)  # 输出反量化到 float\n",
    "        return out\n"
   ]
  },
  {
   "cell_type": "markdown",
   "id": "behind-airline",
   "metadata": {},
   "source": [
    "### 2、定义基本模型（bn)"
   ]
  },
  {
   "cell_type": "code",
   "execution_count": 3,
   "id": "satellite-millennium",
   "metadata": {},
   "outputs": [],
   "source": [
    "class NetBN(nn.Module):\n",
    "\n",
    "    def __init__(self, num_channels=1):\n",
    "        super(NetBN, self).__init__()\n",
    "        self.conv1 = nn.Conv2d(num_channels, 40, 3, 1)\n",
    "        self.bn1 = nn.BatchNorm2d(40)\n",
    "        self.conv2 = nn.Conv2d(40, 40, 3, 1)\n",
    "        self.bn2 = nn.BatchNorm2d(40)\n",
    "        self.fc = nn.Linear(5 * 5 * 40, 10)\n",
    "\n",
    "    def forward(self, x):\n",
    "        x = self.conv1(x)\n",
    "        x = self.bn1(x)\n",
    "        x = F.relu(x)\n",
    "        x = F.max_pool2d(x, 2, 2)\n",
    "        x = self.conv2(x)\n",
    "        x = self.bn2(x)\n",
    "        x = F.relu(x)\n",
    "        x = F.max_pool2d(x, 2, 2)\n",
    "        x = x.view(-1, 5 * 5 * 40)\n",
    "        x = self.fc(x)\n",
    "        return x\n",
    "\n",
    "    def quantize(self, num_bits=8):\n",
    "        self.qconv1 = QConvBNReLU(self.conv1, self.bn1, has_qin=True, has_qout=True, num_bits=num_bits)\n",
    "        self.qmaxpool2d_1 = QMaxPooling2d(kernel_size=2, stride=2, padding=0)\n",
    "        self.qconv2 = QConvBNReLU(self.conv2, self.bn2, has_qin=False, has_qout=True, num_bits=num_bits)\n",
    "        self.qmaxpool2d_2 = QMaxPooling2d(kernel_size=2, stride=2, padding=0)\n",
    "        self.qfc = QLinear(self.fc, has_qin=False, has_qout=True, num_bits=num_bits)\n",
    "\n",
    "    def quantize_forward(self, x):\n",
    "        x = self.qconv1(x)\n",
    "        x = self.qmaxpool2d_1(x)\n",
    "        x = self.qconv2(x)\n",
    "        x = self.qmaxpool2d_2(x)\n",
    "        x = x.view(-1, 5*5*40)\n",
    "        x = self.qfc(x)\n",
    "        return x\n",
    "\n",
    "    def freeze(self):\n",
    "        self.qconv1.freeze()\n",
    "        self.qmaxpool2d_1.freeze(self.qconv1.q_out)\n",
    "        self.qconv2.freeze(q_in=self.qconv1.q_out)\n",
    "        self.qmaxpool2d_2.freeze(self.qconv2.q_out)\n",
    "        self.qfc.freeze(q_in=self.qconv2.q_out)\n",
    "\n",
    "    def quantize_inference(self, x):\n",
    "        qx = self.qconv1.q_in.quantize_tensor(x)\n",
    "        qx = self.qconv1.quantize_inference(qx)\n",
    "        qx = self.qmaxpool2d_1.quantize_inference(qx)\n",
    "        qx = self.qconv2.quantize_inference(qx)\n",
    "        qx = self.qmaxpool2d_2.quantize_inference(qx)\n",
    "        qx = qx.view(-1, 5*5*40)\n",
    "\n",
    "        qx = self.qfc.quantize_inference(qx)\n",
    "        \n",
    "        out = self.qfc.q_out.dequantize_tensor(qx)\n",
    "        return out\n"
   ]
  }
 ],
 "metadata": {
  "kernelspec": {
   "display_name": "Python 3",
   "language": "python",
   "name": "python3"
  },
  "language_info": {
   "codemirror_mode": {
    "name": "ipython",
    "version": 3
   },
   "file_extension": ".py",
   "mimetype": "text/x-python",
   "name": "python",
   "nbconvert_exporter": "python",
   "pygments_lexer": "ipython3",
   "version": "3.6.12"
  }
 },
 "nbformat": 4,
 "nbformat_minor": 5
}

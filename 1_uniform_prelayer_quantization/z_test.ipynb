{
 "cells": [
  {
   "cell_type": "code",
   "execution_count": 1,
   "id": "recovered-chart",
   "metadata": {},
   "outputs": [],
   "source": [
    "import torch"
   ]
  },
  {
   "cell_type": "code",
   "execution_count": 6,
   "id": "personal-olympus",
   "metadata": {},
   "outputs": [
    {
     "data": {
      "text/plain": [
       "torch.Size([64, 1, 28, 28])"
      ]
     },
     "execution_count": 6,
     "metadata": {},
     "output_type": "execute_result"
    }
   ],
   "source": [
    "a = torch.randn((64,1,28,28))\n",
    "a.shape"
   ]
  },
  {
   "cell_type": "code",
   "execution_count": 7,
   "id": "scheduled-centre",
   "metadata": {},
   "outputs": [],
   "source": [
    "conv = torch.nn.Conv2d(1, 40, 3, 1)\n",
    "res = conv(a)"
   ]
  },
  {
   "cell_type": "code",
   "execution_count": 8,
   "id": "sitting-stopping",
   "metadata": {},
   "outputs": [
    {
     "data": {
      "text/plain": [
       "torch.Size([64, 40, 26, 26])"
      ]
     },
     "execution_count": 8,
     "metadata": {},
     "output_type": "execute_result"
    }
   ],
   "source": [
    "res.shape"
   ]
  },
  {
   "cell_type": "code",
   "execution_count": 9,
   "id": "aggregate-tiffany",
   "metadata": {},
   "outputs": [],
   "source": [
    "res = res.permute(1,0,2,3)"
   ]
  },
  {
   "cell_type": "code",
   "execution_count": 10,
   "id": "willing-recommendation",
   "metadata": {},
   "outputs": [
    {
     "data": {
      "text/plain": [
       "torch.Size([40, 64, 26, 26])"
      ]
     },
     "execution_count": 10,
     "metadata": {},
     "output_type": "execute_result"
    }
   ],
   "source": [
    "res.shape"
   ]
  },
  {
   "cell_type": "code",
   "execution_count": 39,
   "id": "received-duration",
   "metadata": {},
   "outputs": [
    {
     "data": {
      "text/plain": [
       "[1.748810052871704,\n",
       " 3.082036018371582,\n",
       " 2.772963047027588,\n",
       " 3.489983320236206,\n",
       " 1.6137028932571411,\n",
       " 2.636458396911621,\n",
       " 2.333836317062378,\n",
       " 2.844614028930664,\n",
       " 2.446852207183838,\n",
       " 1.9817970991134644,\n",
       " 3.078845262527466,\n",
       " 2.5712764263153076,\n",
       " 2.314213752746582,\n",
       " 1.6507903337478638,\n",
       " 2.288954973220825,\n",
       " 1.6510205268859863,\n",
       " 1.8211230039596558,\n",
       " 2.233290195465088,\n",
       " 3.129423141479492,\n",
       " 2.4900386333465576,\n",
       " 2.0524816513061523,\n",
       " 2.4104065895080566,\n",
       " 2.6632468700408936,\n",
       " 2.868107795715332,\n",
       " 2.7915661334991455,\n",
       " 2.4179790019989014,\n",
       " 2.685973882675171,\n",
       " 2.528606414794922,\n",
       " 2.3205361366271973,\n",
       " 2.2477922439575195,\n",
       " 2.3977904319763184,\n",
       " 3.0740394592285156,\n",
       " 2.475773334503174,\n",
       " 1.6990785598754883,\n",
       " 2.3877780437469482,\n",
       " 1.8619632720947266,\n",
       " 1.9376469850540161,\n",
       " 2.3406708240509033,\n",
       " 2.4875998497009277,\n",
       " 2.47426438331604]"
      ]
     },
     "execution_count": 39,
     "metadata": {},
     "output_type": "execute_result"
    }
   ],
   "source": [
    "max =[float(res[i,:,:,:].max() )for i in range(len(res))] \n",
    "max\n"
   ]
  },
  {
   "cell_type": "code",
   "execution_count": 40,
   "id": "massive-limit",
   "metadata": {},
   "outputs": [
    {
     "data": {
      "text/plain": [
       "[-1.8844685554504395,\n",
       " -2.7251570224761963,\n",
       " -2.78564190864563,\n",
       " -3.0217273235321045,\n",
       " -2.063082695007324,\n",
       " -2.178692102432251,\n",
       " -2.5718700885772705,\n",
       " -2.251641035079956,\n",
       " -2.6761314868927,\n",
       " -2.1908199787139893,\n",
       " -3.077657699584961,\n",
       " -2.07256817817688,\n",
       " -2.874354362487793,\n",
       " -1.2362284660339355,\n",
       " -2.4906086921691895,\n",
       " -1.7200480699539185,\n",
       " -2.4822139739990234,\n",
       " -2.4703779220581055,\n",
       " -2.8093631267547607,\n",
       " -1.9963624477386475,\n",
       " -2.856647491455078,\n",
       " -2.568822145462036,\n",
       " -2.5462796688079834,\n",
       " -2.7558465003967285,\n",
       " -1.8937582969665527,\n",
       " -1.8814431428909302,\n",
       " -2.549482583999634,\n",
       " -3.0655269622802734,\n",
       " -1.9864885807037354,\n",
       " -2.821918487548828,\n",
       " -2.610931158065796,\n",
       " -2.505377769470215,\n",
       " -2.3267195224761963,\n",
       " -2.2938315868377686,\n",
       " -3.8878629207611084,\n",
       " -1.9556198120117188,\n",
       " -2.457465410232544,\n",
       " -2.567538022994995,\n",
       " -2.1632306575775146,\n",
       " -2.100537061691284]"
      ]
     },
     "execution_count": 40,
     "metadata": {},
     "output_type": "execute_result"
    }
   ],
   "source": [
    "min = [float(res[i,:,:,:].min() )for i in range(len(res))] \n",
    "min"
   ]
  },
  {
   "cell_type": "code",
   "execution_count": 31,
   "id": "defensive-effort",
   "metadata": {},
   "outputs": [
    {
     "data": {
      "text/plain": [
       "40"
      ]
     },
     "execution_count": 31,
     "metadata": {},
     "output_type": "execute_result"
    }
   ],
   "source": [
    "len(res)"
   ]
  },
  {
   "cell_type": "code",
   "execution_count": null,
   "id": "invisible-gambling",
   "metadata": {},
   "outputs": [],
   "source": []
  }
 ],
 "metadata": {
  "kernelspec": {
   "display_name": "Python 3",
   "language": "python",
   "name": "python3"
  },
  "language_info": {
   "codemirror_mode": {
    "name": "ipython",
    "version": 3
   },
   "file_extension": ".py",
   "mimetype": "text/x-python",
   "name": "python",
   "nbconvert_exporter": "python",
   "pygments_lexer": "ipython3",
   "version": "3.7.10"
  }
 },
 "nbformat": 4,
 "nbformat_minor": 5
}

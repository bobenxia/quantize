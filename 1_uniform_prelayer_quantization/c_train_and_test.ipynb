{
 "cells": [
  {
   "cell_type": "code",
   "execution_count": 8,
   "id": "dependent-blast",
   "metadata": {},
   "outputs": [],
   "source": [
    "import Ipynb_importer\n",
    "from a_basic_quant import *\n",
    "from b_model import *\n",
    "# from ipywidgets import IntProgress"
   ]
  },
  {
   "cell_type": "code",
   "execution_count": 9,
   "id": "under-poster",
   "metadata": {},
   "outputs": [],
   "source": [
    "import torch\n",
    "import torch.optim as optim\n",
    "from torchvision import datasets, transforms\n",
    "import os"
   ]
  },
  {
   "cell_type": "markdown",
   "id": "subtle-exploration",
   "metadata": {},
   "source": [
    "### 1、定义训练"
   ]
  },
  {
   "cell_type": "code",
   "execution_count": 10,
   "id": "received-expense",
   "metadata": {},
   "outputs": [],
   "source": [
    "def train(model, device, train_loader, criterion, optimizer, epoch):\n",
    "    model.train()\n",
    "    train_loss = 0\n",
    "    correct = 0\n",
    "    for batch_idx, (datas, targets) in enumerate(train_loader):\n",
    "        datas, targets = datas.to(device), targets.to(device)\n",
    "        optimizer.zero_grad()\n",
    "        outputs = model(datas)\n",
    "        loss = criterion(outputs, targets)\n",
    "        loss.backward()\n",
    "        optimizer.step()\n",
    "        \n",
    "        train_loss += loss\n",
    "        pred = outputs.argmax(dim=1, keepdim=True)\n",
    "        correct += pred.eq(targets.view_as(pred)).sum().item()\n",
    "        \n",
    "    train_loss /= len(train_loader.dataset)\n",
    "        \n",
    "    print('Train Epoch:{} \\t  Average loss: {:.4f}, Accuracy: {}/{}'.format(\n",
    "        epoch, train_loss, correct , len(train_loader.dataset)\n",
    "    ))"
   ]
  },
  {
   "cell_type": "markdown",
   "id": "vocational-journey",
   "metadata": {},
   "source": [
    "### 2、定义测试"
   ]
  },
  {
   "cell_type": "code",
   "execution_count": 11,
   "id": "sweet-chase",
   "metadata": {},
   "outputs": [],
   "source": [
    "def test(model, device, test_loader, criterion):\n",
    "    model.eval()\n",
    "    test_loss = 0\n",
    "    correct = 0\n",
    "    for batch_idx, (datas, targets) in enumerate(test_loader):\n",
    "        datas, targets = datas.to(device), targets.to(device)\n",
    "        outputs = model(datas)\n",
    "        loss = criterion(outputs, targets)\n",
    "        \n",
    "        test_loss += loss.item()\n",
    "        pred = outputs.argmax(dim=1, keepdim=True)\n",
    "        correct += pred.eq(targets.view_as(pred)).sum().item()\n",
    "        \n",
    "    test_loss /= len(test_loader.dataset)\n",
    "    \n",
    "    print('Test set: Average loss: {:.4f}, Accuracy: {}/{}'.format(\n",
    "        test_loss,  correct ,  len(test_loader.dataset)\n",
    "    ))"
   ]
  },
  {
   "cell_type": "markdown",
   "id": "lovely-owner",
   "metadata": {},
   "source": [
    "### 3、定义数据集和loader"
   ]
  },
  {
   "cell_type": "code",
   "execution_count": 12,
   "id": "reserved-fiber",
   "metadata": {},
   "outputs": [],
   "source": [
    "def dataset_loader(batch_size, test_batch_size):\n",
    "    train_transform = transforms.Compose([\n",
    "                        transforms.ToTensor(),\n",
    "                        transforms.Normalize((0.1307,), (0.3081,))\n",
    "                    ])\n",
    "    test_transform = transforms.Compose([\n",
    "                        transforms.ToTensor(),\n",
    "                        transforms.Normalize((0.1307,), (0.3081,))\n",
    "                    ])\n",
    "    \n",
    "    train_dataset = datasets.MNIST('/home/xia/Dataset', train=True, download=True,\n",
    "                                  transform=train_transform)\n",
    "    test_dataset = datasets.MNIST('/home/xia/Dataset', train=False, download=True,\n",
    "                                 transform=test_transform)  # r'C:\\Users\\xia\\Documents\\datasets'\n",
    "    \n",
    "    train_loader = torch.utils.data.DataLoader(train_dataset, batch_size=batch_size,\n",
    "                                              shuffle=True, num_workers=1)\n",
    "    test_loader = torch.utils.data.DataLoader(test_dataset, batch_size=test_batch_size,\n",
    "                                             shuffle=False, num_workers=1)\n",
    "    \n",
    "    return train_loader, test_loader"
   ]
  },
  {
   "cell_type": "code",
   "execution_count": 6,
   "id": "passive-perfume",
   "metadata": {},
   "outputs": [],
   "source": [
    "def main():\n",
    "    batch_size = 256\n",
    "    test_batch_size = 64\n",
    "    seed = 1\n",
    "    epochs = 25\n",
    "    lr = 0.01\n",
    "    momentum = 0.7\n",
    "    save_model = True\n",
    "    using_bn = True\n",
    "    \n",
    "    device = torch.device('cuda' if torch.cuda.is_available() else 'cpu')\n",
    "    if device == 'cuda':\n",
    "        torch.cuda.manual_seed(seed)\n",
    "    else:\n",
    "        torch.manual_seed(seed)\n",
    "    \n",
    "    # 制作 loader\n",
    "    train_loader, test_loader = dataset_loader(batch_size, test_batch_size)\n",
    "    \n",
    "    if using_bn:\n",
    "        model = NetBN().to(device)\n",
    "    else:\n",
    "        model = Net().to(device)\n",
    "        \n",
    "    optimizer = optim.SGD(model.parameters(), lr=lr, momentum=momentum)\n",
    "    criterion = torch.nn.CrossEntropyLoss()\n",
    "    \n",
    "    for epoch in range(epochs):\n",
    "        if epoch == 18:     lr = 0.001\n",
    "        train(model, device, train_loader, criterion, optimizer, epoch)\n",
    "        test(model, device, test_loader, criterion)\n",
    "    \n",
    "    if save_model:\n",
    "        if not os.path.exists('ckpt'):\n",
    "            os.makedirs('ckpt')\n",
    "        if using_bn:\n",
    "            torch.save(model.state_dict(), 'ckpt/mnist_cnnbn.pt')\n",
    "        else:\n",
    "            torch.save(model.state_dict(), 'ckpt/mnist_cnn.pt')"
   ]
  },
  {
   "cell_type": "code",
   "execution_count": 7,
   "id": "rapid-russell",
   "metadata": {},
   "outputs": [
    {
     "name": "stdout",
     "output_type": "stream",
     "text": [
      "Train Epoch:0 \t  Average loss: 0.0010, Accuracy: 56085/60000\n",
      "Test set: Average loss: 0.0016, Accuracy: 9731/10000\n",
      "Train Epoch:1 \t  Average loss: 0.0003, Accuracy: 58555/60000\n",
      "Test set: Average loss: 0.0011, Accuracy: 9788/10000\n",
      "Train Epoch:2 \t  Average loss: 0.0003, Accuracy: 58858/60000\n",
      "Test set: Average loss: 0.0010, Accuracy: 9819/10000\n",
      "Train Epoch:3 \t  Average loss: 0.0002, Accuracy: 59031/60000\n",
      "Test set: Average loss: 0.0008, Accuracy: 9842/10000\n",
      "Train Epoch:4 \t  Average loss: 0.0002, Accuracy: 59151/60000\n",
      "Test set: Average loss: 0.0008, Accuracy: 9854/10000\n",
      "Train Epoch:5 \t  Average loss: 0.0002, Accuracy: 59204/60000\n",
      "Test set: Average loss: 0.0008, Accuracy: 9847/10000\n",
      "Train Epoch:6 \t  Average loss: 0.0002, Accuracy: 59283/60000\n",
      "Test set: Average loss: 0.0007, Accuracy: 9858/10000\n",
      "Train Epoch:7 \t  Average loss: 0.0002, Accuracy: 59327/60000\n",
      "Test set: Average loss: 0.0007, Accuracy: 9871/10000\n",
      "Train Epoch:8 \t  Average loss: 0.0001, Accuracy: 59385/60000\n",
      "Test set: Average loss: 0.0006, Accuracy: 9869/10000\n",
      "Train Epoch:9 \t  Average loss: 0.0001, Accuracy: 59420/60000\n",
      "Test set: Average loss: 0.0006, Accuracy: 9871/10000\n",
      "Train Epoch:10 \t  Average loss: 0.0001, Accuracy: 59478/60000\n",
      "Test set: Average loss: 0.0006, Accuracy: 9886/10000\n",
      "Train Epoch:11 \t  Average loss: 0.0001, Accuracy: 59497/60000\n",
      "Test set: Average loss: 0.0006, Accuracy: 9882/10000\n",
      "Train Epoch:12 \t  Average loss: 0.0001, Accuracy: 59532/60000\n",
      "Test set: Average loss: 0.0006, Accuracy: 9877/10000\n",
      "Train Epoch:13 \t  Average loss: 0.0001, Accuracy: 59563/60000\n",
      "Test set: Average loss: 0.0007, Accuracy: 9857/10000\n",
      "Train Epoch:14 \t  Average loss: 0.0001, Accuracy: 59593/60000\n",
      "Test set: Average loss: 0.0005, Accuracy: 9893/10000\n",
      "Train Epoch:15 \t  Average loss: 0.0001, Accuracy: 59627/60000\n",
      "Test set: Average loss: 0.0006, Accuracy: 9876/10000\n",
      "Train Epoch:16 \t  Average loss: 0.0001, Accuracy: 59636/60000\n",
      "Test set: Average loss: 0.0006, Accuracy: 9893/10000\n",
      "Train Epoch:17 \t  Average loss: 0.0001, Accuracy: 59663/60000\n",
      "Test set: Average loss: 0.0005, Accuracy: 9899/10000\n",
      "Train Epoch:18 \t  Average loss: 0.0001, Accuracy: 59682/60000\n",
      "Test set: Average loss: 0.0005, Accuracy: 9898/10000\n",
      "Train Epoch:19 \t  Average loss: 0.0001, Accuracy: 59689/60000\n",
      "Test set: Average loss: 0.0005, Accuracy: 9890/10000\n",
      "Train Epoch:20 \t  Average loss: 0.0001, Accuracy: 59711/60000\n",
      "Test set: Average loss: 0.0006, Accuracy: 9880/10000\n",
      "Train Epoch:21 \t  Average loss: 0.0001, Accuracy: 59738/60000\n",
      "Test set: Average loss: 0.0005, Accuracy: 9891/10000\n",
      "Train Epoch:22 \t  Average loss: 0.0001, Accuracy: 59738/60000\n",
      "Test set: Average loss: 0.0005, Accuracy: 9899/10000\n",
      "Train Epoch:23 \t  Average loss: 0.0001, Accuracy: 59758/60000\n",
      "Test set: Average loss: 0.0005, Accuracy: 9899/10000\n",
      "Train Epoch:24 \t  Average loss: 0.0001, Accuracy: 59799/60000\n",
      "Test set: Average loss: 0.0005, Accuracy: 9895/10000\n"
     ]
    }
   ],
   "source": [
    "if __name__ == \"__main__\":\n",
    "    main()"
   ]
  },
  {
   "cell_type": "code",
   "execution_count": 22,
   "id": "brave-danger",
   "metadata": {},
   "outputs": [
    {
     "name": "stdout",
     "output_type": "stream",
     "text": [
      "torch.Size([64, 1, 28, 28])\n"
     ]
    }
   ],
   "source": [
    "train_loader, test_loader = dataset_loader(64, 64)\n",
    "for index,item in enumerate(train_loader):\n",
    "    datas,_ = item\n",
    "    print(datas.shape)\n",
    "    break"
   ]
  },
  {
   "cell_type": "code",
   "execution_count": null,
   "id": "devoted-librarian",
   "metadata": {},
   "outputs": [],
   "source": []
  }
 ],
 "metadata": {
  "kernelspec": {
   "display_name": "Python 3",
   "language": "python",
   "name": "python3"
  },
  "language_info": {
   "codemirror_mode": {
    "name": "ipython",
    "version": 3
   },
   "file_extension": ".py",
   "mimetype": "text/x-python",
   "name": "python",
   "nbconvert_exporter": "python",
   "pygments_lexer": "ipython3",
   "version": "3.6.12"
  }
 },
 "nbformat": 4,
 "nbformat_minor": 5
}

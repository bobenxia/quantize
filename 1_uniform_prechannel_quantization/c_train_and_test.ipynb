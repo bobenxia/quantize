{
 "cells": [
  {
   "cell_type": "code",
   "execution_count": 2,
   "id": "reliable-optimization",
   "metadata": {},
   "outputs": [
    {
     "name": "stdout",
     "output_type": "stream",
     "text": [
      "importing Jupyter notebook from a_basic_quant.ipynb\n",
      "importing Jupyter notebook from b_model.ipynb\n"
     ]
    }
   ],
   "source": [
    "import Ipynb_importer\n",
    "from a_basic_quant import *\n",
    "from b_model import *\n",
    "# from ipywidgets import IntProgress"
   ]
  },
  {
   "cell_type": "code",
   "execution_count": 1,
   "id": "becoming-falls",
   "metadata": {},
   "outputs": [
    {
     "data": {
      "text/plain": [
       "'C:\\\\Users\\\\xia\\\\Documents\\\\datasets'"
      ]
     },
     "execution_count": 1,
     "metadata": {},
     "output_type": "execute_result"
    }
   ],
   "source": [
    "import torch\n",
    "import torch.optim as optim\n",
    "from torchvision import datasets, transforms\n",
    "import os\n",
    "import sys\n",
    "\n",
    "if sys.platform == 'linux':\n",
    "    dataset =  '/home/xia/Dataset'\n",
    "else:\n",
    "    dataset = r'C:\\Users\\xia\\Documents\\datasets'\n",
    "dataset"
   ]
  },
  {
   "cell_type": "markdown",
   "id": "communist-florida",
   "metadata": {},
   "source": [
    "### 1、定义训练"
   ]
  },
  {
   "cell_type": "code",
   "execution_count": 4,
   "id": "understood-massage",
   "metadata": {},
   "outputs": [],
   "source": [
    "def train(model, device, train_loader, criterion, optimizer, epoch):\n",
    "    model.train()\n",
    "    train_loss = 0\n",
    "    correct = 0\n",
    "    for batch_idx, (datas, targets) in enumerate(train_loader):\n",
    "        datas, targets = datas.to(device), targets.to(device)\n",
    "        optimizer.zero_grad()\n",
    "        outputs = model(datas)\n",
    "        loss = criterion(outputs, targets)\n",
    "        loss.backward()\n",
    "        optimizer.step()\n",
    "        \n",
    "        train_loss += loss\n",
    "        pred = outputs.argmax(dim=1, keepdim=True)\n",
    "        correct += pred.eq(targets.view_as(pred)).sum().item()\n",
    "        \n",
    "    train_loss /= len(train_loader.dataset)\n",
    "        \n",
    "    print('Train Epoch:{} \\t  Average loss: {:.4f}, Accuracy: {}/{}'.format(\n",
    "        epoch, train_loss, correct , len(train_loader.dataset)\n",
    "    ))"
   ]
  },
  {
   "cell_type": "markdown",
   "id": "inside-rescue",
   "metadata": {},
   "source": [
    "### 2、定义测试"
   ]
  },
  {
   "cell_type": "code",
   "execution_count": 5,
   "id": "laden-walker",
   "metadata": {},
   "outputs": [],
   "source": [
    "def test(model, device, test_loader, criterion):\n",
    "    model.eval()\n",
    "    test_loss = 0\n",
    "    correct = 0\n",
    "    for batch_idx, (datas, targets) in enumerate(test_loader):\n",
    "        datas, targets = datas.to(device), targets.to(device)\n",
    "        outputs = model(datas)\n",
    "        loss = criterion(outputs, targets)\n",
    "        \n",
    "        test_loss += loss.item()\n",
    "        pred = outputs.argmax(dim=1, keepdim=True)\n",
    "        correct += pred.eq(targets.view_as(pred)).sum().item()\n",
    "        \n",
    "    test_loss /= len(test_loader.dataset)\n",
    "    \n",
    "    print('Test set: Average loss: {:.4f}, Accuracy: {}/{}'.format(\n",
    "        test_loss,  correct ,  len(test_loader.dataset)\n",
    "    ))"
   ]
  },
  {
   "cell_type": "markdown",
   "id": "noted-terry",
   "metadata": {},
   "source": [
    "### 3、定义数据集和loader"
   ]
  },
  {
   "cell_type": "code",
   "execution_count": 6,
   "id": "robust-insurance",
   "metadata": {},
   "outputs": [],
   "source": [
    "def dataset_loader(batch_size, test_batch_size):\n",
    "    train_transform = transforms.Compose([\n",
    "                        transforms.ToTensor(),\n",
    "                        transforms.Normalize((0.1307,), (0.3081,))\n",
    "                    ])\n",
    "    test_transform = transforms.Compose([\n",
    "                        transforms.ToTensor(),\n",
    "                        transforms.Normalize((0.1307,), (0.3081,))\n",
    "                    ])\n",
    "    \n",
    "    train_dataset = datasets.MNIST(dataset, train=True, download=True,\n",
    "                                  transform=train_transform)\n",
    "    test_dataset = datasets.MNIST(dataset, train=False, download=True,\n",
    "                                 transform=test_transform)  \n",
    "    \n",
    "    train_loader = torch.utils.data.DataLoader(train_dataset, batch_size=batch_size,\n",
    "                                              shuffle=True, num_workers=1)\n",
    "    test_loader = torch.utils.data.DataLoader(test_dataset, batch_size=test_batch_size,\n",
    "                                             shuffle=False, num_workers=1)\n",
    "    \n",
    "    return train_loader, test_loader"
   ]
  },
  {
   "cell_type": "code",
   "execution_count": 7,
   "id": "boolean-pharmaceutical",
   "metadata": {},
   "outputs": [],
   "source": [
    "def main():\n",
    "    batch_size = 256\n",
    "    test_batch_size = 64\n",
    "    seed = 1\n",
    "    epochs = 25\n",
    "    lr = 0.01\n",
    "    momentum = 0.7\n",
    "    save_model = True\n",
    "    using_bn = True\n",
    "    \n",
    "    device = torch.device('cuda' if torch.cuda.is_available() else 'cpu')\n",
    "    if device == 'cuda':\n",
    "        torch.cuda.manual_seed(seed)\n",
    "    else:\n",
    "        torch.manual_seed(seed)\n",
    "    \n",
    "    # 制作 loader\n",
    "    train_loader, test_loader = dataset_loader(batch_size, test_batch_size)\n",
    "    \n",
    "    if using_bn:\n",
    "        model = NetBN().to(device)\n",
    "    else:\n",
    "        model = Net().to(device)\n",
    "        \n",
    "    optimizer = optim.SGD(model.parameters(), lr=lr, momentum=momentum)\n",
    "    criterion = torch.nn.CrossEntropyLoss()\n",
    "    \n",
    "    for epoch in range(epochs):\n",
    "        if epoch == 18:     lr = 0.001\n",
    "        train(model, device, train_loader, criterion, optimizer, epoch)\n",
    "        test(model, device, test_loader, criterion)\n",
    "    \n",
    "    if save_model:\n",
    "        if not os.path.exists('ckpt'):\n",
    "            os.makedirs('ckpt')\n",
    "        if using_bn:\n",
    "            torch.save(model.state_dict(), 'ckpt/mnist_cnnbn.pt')\n",
    "        else:\n",
    "            torch.save(model.state_dict(), 'ckpt/mnist_cnn.pt')"
   ]
  },
  {
   "cell_type": "code",
   "execution_count": null,
   "id": "familiar-disney",
   "metadata": {},
   "outputs": [],
   "source": [
    "if __name__ == \"__main__\":\n",
    "    main()"
   ]
  },
  {
   "cell_type": "code",
   "execution_count": 22,
   "id": "trying-summer",
   "metadata": {},
   "outputs": [
    {
     "name": "stdout",
     "output_type": "stream",
     "text": [
      "torch.Size([64, 1, 28, 28])\n"
     ]
    }
   ],
   "source": [
    "# train_loader, test_loader = dataset_loader(64, 64)\n",
    "# for index,item in enumerate(train_loader):\n",
    "#     datas,_ = item\n",
    "#     print(datas.shape)\n",
    "#     break"
   ]
  },
  {
   "cell_type": "code",
   "execution_count": null,
   "id": "structural-association",
   "metadata": {},
   "outputs": [],
   "source": []
  }
 ],
 "metadata": {
  "kernelspec": {
   "display_name": "Python 3",
   "language": "python",
   "name": "python3"
  },
  "language_info": {
   "codemirror_mode": {
    "name": "ipython",
    "version": 3
   },
   "file_extension": ".py",
   "mimetype": "text/x-python",
   "name": "python",
   "nbconvert_exporter": "python",
   "pygments_lexer": "ipython3",
   "version": "3.6.12"
  }
 },
 "nbformat": 4,
 "nbformat_minor": 5
}

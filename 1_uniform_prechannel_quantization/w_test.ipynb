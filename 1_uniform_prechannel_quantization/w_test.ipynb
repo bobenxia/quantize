{
 "cells": [
  {
   "cell_type": "code",
   "execution_count": 1,
   "id": "handled-property",
   "metadata": {},
   "outputs": [
    {
     "name": "stdout",
     "output_type": "stream",
     "text": [
      "importing Jupyter notebook from a_basic_quant.ipynb\n",
      "importing Jupyter notebook from b_model.ipynb\n",
      "importing Jupyter notebook from c_train_and_test.ipynb\n",
      "importing Jupyter notebook from d_post_training_quantize.ipynb\n"
     ]
    }
   ],
   "source": [
    "import Ipynb_importer\n",
    "from a_basic_quant import *\n",
    "from b_model import *\n",
    "from c_train_and_test import *\n",
    "from d_post_training_quantize import *"
   ]
  },
  {
   "cell_type": "markdown",
   "id": "trained-responsibility",
   "metadata": {},
   "source": [
    "## 1、深入理解卷积中量化的细节"
   ]
  },
  {
   "cell_type": "markdown",
   "id": "premier-monkey",
   "metadata": {},
   "source": [
    "### 1.1 定义一个输入并且输出指定范围数据"
   ]
  },
  {
   "cell_type": "code",
   "execution_count": 2,
   "id": "german-contamination",
   "metadata": {},
   "outputs": [
    {
     "data": {
      "text/plain": [
       "tensor([-0.5508,  0.0043, -0.1790, -1.3885,  1.2833])"
      ]
     },
     "execution_count": 2,
     "metadata": {},
     "output_type": "execute_result"
    }
   ],
   "source": [
    "a = torch.randn((64,1,28,28))\n",
    "a[0][0][0][:5]"
   ]
  },
  {
   "cell_type": "markdown",
   "id": "human-entrance",
   "metadata": {},
   "source": [
    "### 1.2 定义一个卷积"
   ]
  },
  {
   "cell_type": "code",
   "execution_count": 3,
   "id": "psychological-pennsylvania",
   "metadata": {},
   "outputs": [],
   "source": [
    "conv = torch.nn.Conv2d(1, 40, 3, 1)"
   ]
  },
  {
   "cell_type": "markdown",
   "id": "false-repeat",
   "metadata": {},
   "source": [
    "### 1.3 进行卷积运算并且输出指定范围数据"
   ]
  },
  {
   "cell_type": "code",
   "execution_count": 4,
   "id": "labeled-charlotte",
   "metadata": {},
   "outputs": [
    {
     "data": {
      "text/plain": [
       "tensor([-0.2279, -0.8645, -0.4443,  0.4254,  0.0018], grad_fn=<SliceBackward>)"
      ]
     },
     "execution_count": 4,
     "metadata": {},
     "output_type": "execute_result"
    }
   ],
   "source": [
    "res = conv(a)\n",
    "res[0][0][0][:5]"
   ]
  },
  {
   "cell_type": "markdown",
   "id": "median-sharp",
   "metadata": {},
   "source": [
    "> 上面一步的目的是模拟正常运算，此时网络中的权重和偏置已存在"
   ]
  },
  {
   "cell_type": "markdown",
   "id": "induced-niger",
   "metadata": {},
   "source": [
    "### 1.4 量化\n",
    "#### 1、 进行对输入的量化"
   ]
  },
  {
   "cell_type": "code",
   "execution_count": 5,
   "id": "acute-heading",
   "metadata": {},
   "outputs": [
    {
     "name": "stdout",
     "output_type": "stream",
     "text": [
      "原始： tensor([-0.5508,  0.0043, -0.1790, -1.3885,  1.2833])\n",
      "量化： tensor([104, 123, 117,  77, 164], dtype=torch.int32)\n",
      "反量化： tensor([-0.5814,  0.0000, -0.1836, -1.4075,  1.2545])\n"
     ]
    }
   ],
   "source": [
    "# 1\n",
    "min_a, max_a = calcu_max_and_min(a, None, None, False)\n",
    "# 2\n",
    "scale_a, zero_point_a = calcu_scale_and_zeropoint(min_a, max_a, 8, False)\n",
    "# 3\n",
    "q_a = quantize_tensor(a, scale_a, zero_point_a).int()\n",
    "# 4\n",
    "dq_a = dequantize_tensor(q_a, scale_a, zero_point_a)\n",
    "\n",
    "print(\"原始：\", a[0][0][0][:5])\n",
    "print(\"量化：\", q_a[0][0][0][:5])\n",
    "print(\"反量化：\", dq_a[0][0][0][:5])"
   ]
  },
  {
   "cell_type": "markdown",
   "id": "critical-caution",
   "metadata": {},
   "source": [
    "#### 2、 进行对权重的量化\n",
    "两种量化方式，逐层量化、逐通道量化\n",
    "\n",
    "这里展示的是逐通道量化"
   ]
  },
  {
   "cell_type": "code",
   "execution_count": 6,
   "id": "popular-method",
   "metadata": {},
   "outputs": [
    {
     "name": "stdout",
     "output_type": "stream",
     "text": [
      "原始： tensor([-0.0702,  0.2863,  0.3016])\n",
      "量化： tensor([ 99.8421, 247.9393, 254.2934])\n",
      "反量化： tensor([-0.0702,  0.2863,  0.3016])\n"
     ]
    }
   ],
   "source": [
    "# 1、获取权重\n",
    "w = conv.weight.data\n",
    "# 2、\n",
    "min_w, max_w = calcu_max_and_min(w, None, None, True)\n",
    "# 3、\n",
    "scale_w, zero_point_w = calcu_scale_and_zeropoint(min_w, max_w, 8, True)\n",
    "# 4、\n",
    "q_w = quantize_tensor(w, scale_w, zero_point_w,8,False, True)\n",
    "# 5、\n",
    "dq_w = dequantize_tensor(q_w, scale_w, zero_point_w, True)\n",
    "\n",
    "print(\"原始：\", w[0][0][0][:5])\n",
    "print(\"量化：\", q_w[0][0][0][:5])\n",
    "print(\"反量化：\", dq_w[0][0][0][:5])"
   ]
  },
  {
   "cell_type": "markdown",
   "id": "sixth-trade",
   "metadata": {},
   "source": [
    "#### 3、 进行对输出的量化"
   ]
  },
  {
   "cell_type": "code",
   "execution_count": 7,
   "id": "chinese-worry",
   "metadata": {},
   "outputs": [
    {
     "name": "stdout",
     "output_type": "stream",
     "text": [
      "原始： tensor([-0.2279, -0.8645, -0.4443,  0.4254,  0.0018], grad_fn=<SliceBackward>)\n",
      "量化： tensor([129, 105, 121, 153, 138], dtype=torch.int32)\n",
      "反量化： tensor([-0.2425, -0.8890, -0.4580,  0.4041,  0.0000])\n"
     ]
    }
   ],
   "source": [
    "# 1\n",
    "min_res, max_res = calcu_max_and_min(res, None, None, False)\n",
    "# 2\n",
    "scale_res, zero_point_res = calcu_scale_and_zeropoint(min_res, max_res, 8, False)\n",
    "# 3\n",
    "q_res = quantize_tensor(res, scale_res, zero_point_res).int()\n",
    "# 4\n",
    "dq_res = dequantize_tensor(q_res, scale_res, zero_point_res)\n",
    "\n",
    "print(\"原始：\", res[0][0][0][:5])\n",
    "print(\"量化：\", q_res[0][0][0][:5])\n",
    "print(\"反量化：\", dq_res[0][0][0][:5])"
   ]
  },
  {
   "cell_type": "markdown",
   "id": "actual-backup",
   "metadata": {},
   "source": [
    "### 1.5 卷积中权值更新为量化权值"
   ]
  },
  {
   "cell_type": "code",
   "execution_count": 8,
   "id": "handed-springfield",
   "metadata": {},
   "outputs": [],
   "source": [
    "conv.weight.data = q_w"
   ]
  },
  {
   "cell_type": "markdown",
   "id": "efficient-danger",
   "metadata": {
    "tags": []
   },
   "source": [
    "### 1.6 进行推理\n",
    "<img src=\"https://www.zhihu.com/equation?tex=S_a+%28q_a-Z_a%29%3D%5Csum_%7Bi%7D%5EN+S_w%28q_w-Z_w%29S_x%28q_x-Z_x%29%2BS_b%28q_b-Z_b%29+%5Ctag%7B2%7D+\" alt=\"[公式]\" style=\"zoom:80%;\" />\n",
    "<img src=\"https://www.zhihu.com/equation?tex=q_a%3D%5Cfrac%7BS_w+S_x%7D%7BS_a%7D%5Csum_%7Bi%7D%5EN+%28q_w-Z_w%29%28q_x-Z_x%29%2B%5Cfrac%7BS_b%7D%7BS_a%7D%28q_b-Z_b%29%2BZ_a+%5Ctag%7B3%7D+\" alt=\"[公式]\" style=\"zoom:80%;\" />"
   ]
  },
  {
   "cell_type": "markdown",
   "id": "portuguese-bargain",
   "metadata": {},
   "source": [
    "#### 1、量化输入"
   ]
  },
  {
   "cell_type": "code",
   "execution_count": 9,
   "id": "convertible-editing",
   "metadata": {},
   "outputs": [],
   "source": [
    "x_1 = q_a - zero_point_a"
   ]
  },
  {
   "cell_type": "markdown",
   "id": "opened-thread",
   "metadata": {},
   "source": [
    "#### 2、进行卷积\n",
    "> 注意：\n",
    "> 1. 这里的输入已经模拟量化了\n",
    "> 2. 卷积中的权重在上面某步中被模拟量化了（偏置被忽略了）"
   ]
  },
  {
   "cell_type": "code",
   "execution_count": 10,
   "id": "inner-scroll",
   "metadata": {},
   "outputs": [],
   "source": [
    "y_2 = conv(x_1)"
   ]
  },
  {
   "cell_type": "markdown",
   "id": "lucky-nickel",
   "metadata": {},
   "source": [
    "#### 3、计算 M\n",
    "\n",
    "![[公式]](https://www.zhihu.com/equation?tex=M%3D%5Cfrac%7BS_1+S_2%7D%7BS_3%7D)\n",
    "\n",
    "注意：\n",
    "\n",
    "> 1. M的计算公式根据逐层量化和逐通道量化方式的不同而不同，这里展示的是逐通道量化的公式"
   ]
  },
  {
   "cell_type": "code",
   "execution_count": 11,
   "id": "iraqi-prefix",
   "metadata": {},
   "outputs": [
    {
     "data": {
      "text/plain": [
       "40"
      ]
     },
     "execution_count": 11,
     "metadata": {},
     "output_type": "execute_result"
    }
   ],
   "source": [
    "M = [scale_w[i] * scale_a / scale_res for i in range(len(scale_w))]\n",
    "len(M)"
   ]
  },
  {
   "cell_type": "markdown",
   "id": "blind-consequence",
   "metadata": {},
   "source": [
    "#### 4、M 与 量化卷积乘积\n"
   ]
  },
  {
   "cell_type": "code",
   "execution_count": 12,
   "id": "compact-protocol",
   "metadata": {},
   "outputs": [],
   "source": [
    "for i in range(len(M)):\n",
    "    y_2[:,i,:,:] = y_2[:,i,:,:] * M[i]"
   ]
  },
  {
   "cell_type": "markdown",
   "id": "offshore-victoria",
   "metadata": {},
   "source": [
    "#### 5、加上 输出的zero_point\n",
    "这里得到的是量化的输出结果"
   ]
  },
  {
   "cell_type": "code",
   "execution_count": 13,
   "id": "beginning-brain",
   "metadata": {},
   "outputs": [
    {
     "data": {
      "text/plain": [
       "tensor([142.9339, 130.2727, 140.0809, 161.4011, 141.4653],\n",
       "       grad_fn=<SliceBackward>)"
      ]
     },
     "execution_count": 13,
     "metadata": {},
     "output_type": "execute_result"
    }
   ],
   "source": [
    "z_3 = y_2 +zero_point_res\n",
    "    \n",
    "z_3[0][0][0][:5]"
   ]
  },
  {
   "cell_type": "markdown",
   "id": "changed-species",
   "metadata": {},
   "source": [
    "#### 6、反量化"
   ]
  },
  {
   "cell_type": "code",
   "execution_count": 14,
   "id": "inappropriate-brown",
   "metadata": {},
   "outputs": [
    {
     "data": {
      "text/plain": [
       "tensor([ 0.1329, -0.2082,  0.0561,  0.6304,  0.0934], grad_fn=<SliceBackward>)"
      ]
     },
     "execution_count": 14,
     "metadata": {},
     "output_type": "execute_result"
    }
   ],
   "source": [
    "dz_4 = dequantize_tensor(z_3, scale_res, zero_point_res)\n",
    "dz_4[0][0][0][:5]"
   ]
  },
  {
   "cell_type": "markdown",
   "id": "temporal-haiti",
   "metadata": {},
   "source": [
    "#### 7、与原始结果对比"
   ]
  },
  {
   "cell_type": "code",
   "execution_count": 15,
   "id": "prime-century",
   "metadata": {},
   "outputs": [
    {
     "name": "stdout",
     "output_type": "stream",
     "text": [
      "原始： tensor([-0.2279, -0.8645, -0.4443,  0.4254,  0.0018], grad_fn=<SliceBackward>)\n",
      "量化： tensor([129, 105, 121, 153, 138], dtype=torch.int32)\n",
      "反量化： tensor([-0.2425, -0.8890, -0.4580,  0.4041,  0.0000])\n"
     ]
    }
   ],
   "source": [
    "print(\"原始：\", res[0][0][0][:5])\n",
    "print(\"量化：\", q_res[0][0][0][:5])\n",
    "print(\"反量化：\", dq_res[0][0][0][:5]) "
   ]
  },
  {
   "cell_type": "markdown",
   "id": "unlikely-exclusion",
   "metadata": {},
   "source": [
    "## 2、封装版的量化过程"
   ]
  },
  {
   "cell_type": "markdown",
   "id": "foreign-habitat",
   "metadata": {},
   "source": [
    "### 2.1 定义一个输入并且输出指定范围数据"
   ]
  },
  {
   "cell_type": "code",
   "execution_count": 16,
   "id": "early-marshall",
   "metadata": {},
   "outputs": [
    {
     "data": {
      "text/plain": [
       "tensor([-0.9104, -0.0461,  0.1548,  0.4115,  1.4664])"
      ]
     },
     "execution_count": 16,
     "metadata": {},
     "output_type": "execute_result"
    }
   ],
   "source": [
    "a = torch.randn((64,1,28,28))\n",
    "a[0][0][0][:5]"
   ]
  },
  {
   "cell_type": "markdown",
   "id": "commercial-fellow",
   "metadata": {},
   "source": [
    "### 2.2 定义一个卷积"
   ]
  },
  {
   "cell_type": "code",
   "execution_count": 17,
   "id": "integral-canada",
   "metadata": {},
   "outputs": [],
   "source": [
    "conv = torch.nn.Conv2d(1, 40, 3, 1)"
   ]
  },
  {
   "cell_type": "markdown",
   "id": "monthly-history",
   "metadata": {},
   "source": [
    "### 2.3 进行卷积运算并且输出指定范围数据"
   ]
  },
  {
   "cell_type": "code",
   "execution_count": 18,
   "id": "willing-projection",
   "metadata": {},
   "outputs": [
    {
     "data": {
      "text/plain": [
       "tensor([ 0.4986, -0.0561,  0.2890,  0.5639,  0.2650], grad_fn=<SliceBackward>)"
      ]
     },
     "execution_count": 18,
     "metadata": {},
     "output_type": "execute_result"
    }
   ],
   "source": [
    "res = conv(a)\n",
    "res[0][0][0][:5]"
   ]
  },
  {
   "cell_type": "markdown",
   "id": "competitive-genesis",
   "metadata": {},
   "source": [
    "### 2.4 定义一个量化卷积"
   ]
  },
  {
   "cell_type": "code",
   "execution_count": 19,
   "id": "fitting-coffee",
   "metadata": {},
   "outputs": [],
   "source": [
    "qconv = QConv2d(conv, True, True, 8, True)"
   ]
  },
  {
   "cell_type": "markdown",
   "id": "previous-utility",
   "metadata": {},
   "source": []
  },
  {
   "cell_type": "markdown",
   "id": "driven-payroll",
   "metadata": {},
   "source": [
    "#### 2.5 进行量化卷积运算\n",
    "> 目的是计算量化中的参数，固定"
   ]
  },
  {
   "cell_type": "code",
   "execution_count": 20,
   "id": "driving-lottery",
   "metadata": {},
   "outputs": [],
   "source": [
    "q_b = qconv(a)\n",
    "qconv.freeze()"
   ]
  },
  {
   "cell_type": "markdown",
   "id": "corporate-reason",
   "metadata": {},
   "source": [
    "#### 2.6 量化推理"
   ]
  },
  {
   "cell_type": "code",
   "execution_count": 21,
   "id": "classical-astrology",
   "metadata": {},
   "outputs": [
    {
     "data": {
      "text/plain": [
       "tensor([ 0.4683, -0.0739,  0.2711,  0.5422,  0.2464], grad_fn=<SliceBackward>)"
      ]
     },
     "execution_count": 21,
     "metadata": {},
     "output_type": "execute_result"
    }
   ],
   "source": [
    "q_x = qconv.q_in.quantize_tensor(a)\n",
    "q_x = qconv.quantize_inference(q_x)\n",
    "out = qconv.q_out.dequantize_tensor(q_x)\n",
    "out[0][0][0][:5]"
   ]
  },
  {
   "cell_type": "code",
   "execution_count": 22,
   "id": "quantitative-psychology",
   "metadata": {},
   "outputs": [
    {
     "data": {
      "text/plain": [
       "tensor([ 0.4986, -0.0561,  0.2890,  0.5639,  0.2650], grad_fn=<SliceBackward>)"
      ]
     },
     "execution_count": 22,
     "metadata": {},
     "output_type": "execute_result"
    }
   ],
   "source": [
    "res[0][0][0][:5]"
   ]
  },
  {
   "cell_type": "code",
   "execution_count": null,
   "id": "brief-holocaust",
   "metadata": {},
   "outputs": [],
   "source": []
  }
 ],
 "metadata": {
  "kernelspec": {
   "display_name": "Python 3",
   "language": "python",
   "name": "python3"
  },
  "language_info": {
   "codemirror_mode": {
    "name": "ipython",
    "version": 3
   },
   "file_extension": ".py",
   "mimetype": "text/x-python",
   "name": "python",
   "nbconvert_exporter": "python",
   "pygments_lexer": "ipython3",
   "version": "3.6.12"
  }
 },
 "nbformat": 4,
 "nbformat_minor": 5
}

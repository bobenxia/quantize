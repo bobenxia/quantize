{
 "cells": [
  {
   "cell_type": "code",
   "execution_count": 1,
   "id": "accepted-exhaust",
   "metadata": {},
   "outputs": [
    {
     "name": "stdout",
     "output_type": "stream",
     "text": [
      "importing Jupyter notebook from a_basic_quant.ipynb\n",
      "importing Jupyter notebook from b_model.ipynb\n",
      "importing Jupyter notebook from c_train_and_test.ipynb\n",
      "importing Jupyter notebook from d_post_training_quantize.ipynb\n"
     ]
    }
   ],
   "source": [
    "import Ipynb_importer\n",
    "from a_basic_quant import *\n",
    "from b_model import *\n",
    "from c_train_and_test import *\n",
    "from d_post_training_quantize import *"
   ]
  },
  {
   "cell_type": "markdown",
   "id": "traditional-copyright",
   "metadata": {},
   "source": [
    "## 1、理解量化过程·教程\n",
    "### 1.1 获得一个输入 torch.tensor"
   ]
  },
  {
   "cell_type": "code",
   "execution_count": 2,
   "id": "ruled-stevens",
   "metadata": {},
   "outputs": [
    {
     "data": {
      "text/plain": [
       "tensor([[  37.7100, -247.2650,  195.9890],\n",
       "        [-164.9726,   30.3538,   20.2909]])"
      ]
     },
     "execution_count": 2,
     "metadata": {},
     "output_type": "execute_result"
    }
   ],
   "source": [
    "x = torch.randn(2,3) *100\n",
    "x"
   ]
  },
  {
   "cell_type": "markdown",
   "id": "statistical-companion",
   "metadata": {},
   "source": [
    "### 1.2 获得 x 的最大值和最小值，确定上下限"
   ]
  },
  {
   "cell_type": "code",
   "execution_count": 3,
   "id": "incredible-giant",
   "metadata": {},
   "outputs": [
    {
     "name": "stdout",
     "output_type": "stream",
     "text": [
      "max_val: 195.989013671875 \n",
      "min_val:-247.26495361328125\n"
     ]
    }
   ],
   "source": [
    "max_val = x.max()\n",
    "min_val = x.min()\n",
    "print(f\"max_val: {max_val} \\nmin_val:{min_val}\")"
   ]
  },
  {
   "cell_type": "markdown",
   "id": "extreme-theory",
   "metadata": {},
   "source": [
    "### 1.3 计算缩放因子 scare, 零点 zero_point"
   ]
  },
  {
   "cell_type": "code",
   "execution_count": 4,
   "id": "macro-pepper",
   "metadata": {},
   "outputs": [
    {
     "name": "stdout",
     "output_type": "stream",
     "text": [
      "scale: 1.7382508516311646 \n",
      "zero_point: 142.0\n"
     ]
    }
   ],
   "source": [
    "scale, zero_point = calcu_scale_and_zeropoint(min_val, max_val)\n",
    "print(f\"scale: {scale} \\nzero_point: {zero_point}\")"
   ]
  },
  {
   "cell_type": "markdown",
   "id": "copyrighted-flush",
   "metadata": {},
   "source": [
    "### 1.4 进行量化"
   ]
  },
  {
   "cell_type": "code",
   "execution_count": 5,
   "id": "respiratory-emperor",
   "metadata": {},
   "outputs": [
    {
     "data": {
      "text/plain": [
       "tensor([[163.6942,   0.0000, 254.7507],\n",
       "        [ 47.0928, 159.4622, 153.6731]])"
      ]
     },
     "execution_count": 5,
     "metadata": {},
     "output_type": "execute_result"
    }
   ],
   "source": [
    "q_x = quantize_tensor(x, scale, zero_point)\n",
    "q_x"
   ]
  },
  {
   "cell_type": "markdown",
   "id": "cardiac-invasion",
   "metadata": {},
   "source": [
    "### 1.5 反量化"
   ]
  },
  {
   "cell_type": "code",
   "execution_count": 6,
   "id": "painful-adjustment",
   "metadata": {},
   "outputs": [
    {
     "name": "stdout",
     "output_type": "stream",
     "text": [
      "原始值：\n",
      "tensor([[  37.7100, -247.2650,  195.9890],\n",
      "        [-164.9726,   30.3538,   20.2909]]) \n",
      "量化反量化：\n",
      "tensor([[  37.7100, -246.8316,  195.9890],\n",
      "        [-164.9726,   30.3538,   20.2908]])\n"
     ]
    }
   ],
   "source": [
    "x_q_x = dequantize_tensor(q_x, scale, zero_point)\n",
    "\n",
    "print(f\"原始值：\\n{x} \\n量化反量化：\\n{x_q_x}\")"
   ]
  },
  {
   "cell_type": "markdown",
   "id": "existing-plenty",
   "metadata": {},
   "source": [
    "## 2、理解卷积中量化参与的过程"
   ]
  },
  {
   "cell_type": "markdown",
   "id": "fancy-bolivia",
   "metadata": {},
   "source": [
    "### 2.1 定义一个卷积"
   ]
  },
  {
   "cell_type": "code",
   "execution_count": 7,
   "id": "strong-green",
   "metadata": {},
   "outputs": [],
   "source": [
    "conv = torch.nn.Conv2d(1, 40, 3, 1)"
   ]
  },
  {
   "cell_type": "markdown",
   "id": "exempt-summit",
   "metadata": {},
   "source": [
    "### 2.2 定义输入 a 并且输出指定范围数据"
   ]
  },
  {
   "cell_type": "code",
   "execution_count": 8,
   "id": "later-democrat",
   "metadata": {},
   "outputs": [
    {
     "data": {
      "text/plain": [
       "tensor([ 2.0351, -1.0917, -1.2265,  1.2006,  0.4202])"
      ]
     },
     "execution_count": 8,
     "metadata": {},
     "output_type": "execute_result"
    }
   ],
   "source": [
    "a = torch.randn((64, 1, 28, 28))\n",
    "a[0][0][0][:5]"
   ]
  },
  {
   "cell_type": "markdown",
   "id": "strong-greek",
   "metadata": {},
   "source": [
    "### 2.3 卷积运算并且输出指定范围数据"
   ]
  },
  {
   "cell_type": "code",
   "execution_count": 9,
   "id": "artificial-pulse",
   "metadata": {},
   "outputs": [
    {
     "data": {
      "text/plain": [
       "tensor([0.1122, 0.7790, 0.5075, 0.2908, 0.4184], grad_fn=<SliceBackward>)"
      ]
     },
     "execution_count": 9,
     "metadata": {},
     "output_type": "execute_result"
    }
   ],
   "source": [
    "a_out = conv(a)\n",
    "a_out[0][0][0][:5]"
   ]
  },
  {
   "cell_type": "markdown",
   "id": "southeast-norman",
   "metadata": {},
   "source": [
    "### 2.4 定义量化卷积层"
   ]
  },
  {
   "cell_type": "code",
   "execution_count": 10,
   "id": "arranged-serbia",
   "metadata": {},
   "outputs": [],
   "source": [
    "qconv1 = QConv2d(conv, has_qin=True, has_qout=True, num_bits=8)"
   ]
  },
  {
   "cell_type": "markdown",
   "id": "hairy-lebanon",
   "metadata": {},
   "source": [
    "### 2.5 计算S 和 z，进行中间参数的量化，并保存"
   ]
  },
  {
   "cell_type": "code",
   "execution_count": 11,
   "id": "broadband-district",
   "metadata": {},
   "outputs": [],
   "source": [
    "y = qconv1(a)\n",
    "qconv1.freeze()"
   ]
  },
  {
   "cell_type": "markdown",
   "id": "express-heaven",
   "metadata": {},
   "source": [
    "### 2.6 量化输入"
   ]
  },
  {
   "cell_type": "code",
   "execution_count": 20,
   "id": "ceramic-unemployment",
   "metadata": {},
   "outputs": [
    {
     "name": "stdout",
     "output_type": "stream",
     "text": [
      "量化输入，展示部分数据：tensor([196.,  97.,  93., 170., 145.])\n",
      "\n",
      "反量化输入，展示部分数据：\n",
      "\n",
      "tensor([ 2.0197, -1.1045, -1.2308,  1.1992,  0.4103])\n",
      "\n",
      "原始数据对比：\n",
      "\n",
      "tensor([ 2.0351, -1.0917, -1.2265,  1.2006,  0.4202])\n"
     ]
    }
   ],
   "source": [
    "# 量化输入\n",
    "qa = qconv1.q_in.quantize_tensor(a).int().float()\n",
    "print(f\"量化输入，展示部分数据：{qa[0][0][0][:5]}\")\n",
    "\n",
    "# 反量化输入\n",
    "# 这部分没必要，只是为了给你们展示看效果\n",
    "qaa = qconv1.q_in.dequantize_tensor(qa)\n",
    "print(f\"\\n反量化输入，展示部分数据：\\n\\n{qaa[0][0][0][:5]}\\n\")\n",
    "print(f\"原始数据对比：\\n\\n{a[0][0][0][:5]}\")"
   ]
  },
  {
   "cell_type": "markdown",
   "id": "human-appeal",
   "metadata": {},
   "source": [
    "### 2.7 使用量化输入进行推理"
   ]
  },
  {
   "cell_type": "code",
   "execution_count": 21,
   "id": "focal-treasury",
   "metadata": {},
   "outputs": [
    {
     "name": "stdout",
     "output_type": "stream",
     "text": [
      "推理输出，展示部分数据：tensor([137., 163., 152., 144., 149.], grad_fn=<SliceBackward>)\n",
      "\n",
      "反量化推理输出，展示部分数据：\n",
      "\n",
      "tensor([0.1271, 0.7880, 0.5084, 0.3050, 0.4321], grad_fn=<SliceBackward>)\n",
      "\n",
      "原始推理结果对比：\n",
      "\n",
      "tensor([0.1122, 0.7790, 0.5075, 0.2908, 0.4184], grad_fn=<SliceBackward>)\n"
     ]
    }
   ],
   "source": [
    "qa_out = qconv1.quantize_inference(qa)\n",
    "print(f\"推理输出，展示部分数据：{qa_out[0][0][0][:5]}\")\n",
    "\n",
    "qaa_out = qconv1.q_out.dequantize_tensor(qa_out)\n",
    "print(f\"\\n反量化推理输出，展示部分数据：\\n\\n{qaa_out[0][0][0][:5]}\\n\")\n",
    "print(f\"原始推理结果对比：\\n\\n{a_out[0][0][0][:5]}\")"
   ]
  },
  {
   "cell_type": "markdown",
   "id": "advanced-quick",
   "metadata": {},
   "source": [
    "## 3、无法量化的缘故·教程"
   ]
  },
  {
   "cell_type": "markdown",
   "id": "posted-bracelet",
   "metadata": {},
   "source": [
    "### 3.1 定义卷积"
   ]
  },
  {
   "cell_type": "code",
   "execution_count": 22,
   "id": "irish-plastic",
   "metadata": {},
   "outputs": [],
   "source": [
    "conv = torch.nn.Conv2d(1, 40, 3, 1)"
   ]
  },
  {
   "cell_type": "markdown",
   "id": "comprehensive-pathology",
   "metadata": {},
   "source": [
    "### 3.2 定义输入并查看类型"
   ]
  },
  {
   "cell_type": "code",
   "execution_count": 23,
   "id": "sonic-cartoon",
   "metadata": {},
   "outputs": [
    {
     "name": "stdout",
     "output_type": "stream",
     "text": [
      "shape: torch.Size([64, 1, 28, 28]) \n",
      "dtype: torch.float32\n"
     ]
    }
   ],
   "source": [
    "a = torch.randn((64, 1, 28, 28))\n",
    "\n",
    "print(f\"shape: {a.shape} \\ndtype: {a.dtype}\")"
   ]
  },
  {
   "cell_type": "markdown",
   "id": "further-slovenia",
   "metadata": {},
   "source": [
    "### 3.3 卷积运算（正常输出）"
   ]
  },
  {
   "cell_type": "code",
   "execution_count": 24,
   "id": "acting-width",
   "metadata": {},
   "outputs": [
    {
     "name": "stdout",
     "output_type": "stream",
     "text": [
      "shape: torch.Size([64, 40, 26, 26]) \n",
      "dtype: torch.float32\n"
     ]
    }
   ],
   "source": [
    "a_out = conv(a)\n",
    "\n",
    "print(f\"shape: {a_out.shape} \\ndtype: {a_out.dtype}\")"
   ]
  },
  {
   "cell_type": "markdown",
   "id": "accredited-story",
   "metadata": {},
   "source": [
    "### 3.4 改变输入类型"
   ]
  },
  {
   "cell_type": "code",
   "execution_count": 25,
   "id": "emerging-extraction",
   "metadata": {},
   "outputs": [
    {
     "data": {
      "text/plain": [
       "torch.uint8"
      ]
     },
     "execution_count": 25,
     "metadata": {},
     "output_type": "execute_result"
    }
   ],
   "source": [
    "b = a.to(torch.uint8)\n",
    "\n",
    "b.dtype"
   ]
  },
  {
   "cell_type": "markdown",
   "id": "covered-correlation",
   "metadata": {},
   "source": [
    "### 3.5 卷积运算（错误输出）"
   ]
  },
  {
   "cell_type": "code",
   "execution_count": 26,
   "id": "soviet-blond",
   "metadata": {},
   "outputs": [
    {
     "ename": "RuntimeError",
     "evalue": "expected scalar type Byte but found Float",
     "output_type": "error",
     "traceback": [
      "\u001b[0;31m---------------------------------------------------------------------------\u001b[0m",
      "\u001b[0;31mRuntimeError\u001b[0m                              Traceback (most recent call last)",
      "\u001b[0;32m<ipython-input-26-b9917d34543f>\u001b[0m in \u001b[0;36m<module>\u001b[0;34m\u001b[0m\n\u001b[0;32m----> 1\u001b[0;31m \u001b[0mb_out\u001b[0m \u001b[0;34m=\u001b[0m \u001b[0mconv\u001b[0m\u001b[0;34m(\u001b[0m\u001b[0mb\u001b[0m\u001b[0;34m)\u001b[0m\u001b[0;34m\u001b[0m\u001b[0;34m\u001b[0m\u001b[0m\n\u001b[0m",
      "\u001b[0;32m~/miniconda3/envs/20210222_TensorRT官方开源库/lib/python3.6/site-packages/torch/nn/modules/module.py\u001b[0m in \u001b[0;36m_call_impl\u001b[0;34m(self, *input, **kwargs)\u001b[0m\n\u001b[1;32m    725\u001b[0m             \u001b[0mresult\u001b[0m \u001b[0;34m=\u001b[0m \u001b[0mself\u001b[0m\u001b[0;34m.\u001b[0m\u001b[0m_slow_forward\u001b[0m\u001b[0;34m(\u001b[0m\u001b[0;34m*\u001b[0m\u001b[0minput\u001b[0m\u001b[0;34m,\u001b[0m \u001b[0;34m**\u001b[0m\u001b[0mkwargs\u001b[0m\u001b[0;34m)\u001b[0m\u001b[0;34m\u001b[0m\u001b[0;34m\u001b[0m\u001b[0m\n\u001b[1;32m    726\u001b[0m         \u001b[0;32melse\u001b[0m\u001b[0;34m:\u001b[0m\u001b[0;34m\u001b[0m\u001b[0;34m\u001b[0m\u001b[0m\n\u001b[0;32m--> 727\u001b[0;31m             \u001b[0mresult\u001b[0m \u001b[0;34m=\u001b[0m \u001b[0mself\u001b[0m\u001b[0;34m.\u001b[0m\u001b[0mforward\u001b[0m\u001b[0;34m(\u001b[0m\u001b[0;34m*\u001b[0m\u001b[0minput\u001b[0m\u001b[0;34m,\u001b[0m \u001b[0;34m**\u001b[0m\u001b[0mkwargs\u001b[0m\u001b[0;34m)\u001b[0m\u001b[0;34m\u001b[0m\u001b[0;34m\u001b[0m\u001b[0m\n\u001b[0m\u001b[1;32m    728\u001b[0m         for hook in itertools.chain(\n\u001b[1;32m    729\u001b[0m                 \u001b[0m_global_forward_hooks\u001b[0m\u001b[0;34m.\u001b[0m\u001b[0mvalues\u001b[0m\u001b[0;34m(\u001b[0m\u001b[0;34m)\u001b[0m\u001b[0;34m,\u001b[0m\u001b[0;34m\u001b[0m\u001b[0;34m\u001b[0m\u001b[0m\n",
      "\u001b[0;32m~/miniconda3/envs/20210222_TensorRT官方开源库/lib/python3.6/site-packages/torch/nn/modules/conv.py\u001b[0m in \u001b[0;36mforward\u001b[0;34m(self, input)\u001b[0m\n\u001b[1;32m    421\u001b[0m \u001b[0;34m\u001b[0m\u001b[0m\n\u001b[1;32m    422\u001b[0m     \u001b[0;32mdef\u001b[0m \u001b[0mforward\u001b[0m\u001b[0;34m(\u001b[0m\u001b[0mself\u001b[0m\u001b[0;34m,\u001b[0m \u001b[0minput\u001b[0m\u001b[0;34m:\u001b[0m \u001b[0mTensor\u001b[0m\u001b[0;34m)\u001b[0m \u001b[0;34m->\u001b[0m \u001b[0mTensor\u001b[0m\u001b[0;34m:\u001b[0m\u001b[0;34m\u001b[0m\u001b[0;34m\u001b[0m\u001b[0m\n\u001b[0;32m--> 423\u001b[0;31m         \u001b[0;32mreturn\u001b[0m \u001b[0mself\u001b[0m\u001b[0;34m.\u001b[0m\u001b[0m_conv_forward\u001b[0m\u001b[0;34m(\u001b[0m\u001b[0minput\u001b[0m\u001b[0;34m,\u001b[0m \u001b[0mself\u001b[0m\u001b[0;34m.\u001b[0m\u001b[0mweight\u001b[0m\u001b[0;34m)\u001b[0m\u001b[0;34m\u001b[0m\u001b[0;34m\u001b[0m\u001b[0m\n\u001b[0m\u001b[1;32m    424\u001b[0m \u001b[0;34m\u001b[0m\u001b[0m\n\u001b[1;32m    425\u001b[0m \u001b[0;32mclass\u001b[0m \u001b[0mConv3d\u001b[0m\u001b[0;34m(\u001b[0m\u001b[0m_ConvNd\u001b[0m\u001b[0;34m)\u001b[0m\u001b[0;34m:\u001b[0m\u001b[0;34m\u001b[0m\u001b[0;34m\u001b[0m\u001b[0m\n",
      "\u001b[0;32m~/miniconda3/envs/20210222_TensorRT官方开源库/lib/python3.6/site-packages/torch/nn/modules/conv.py\u001b[0m in \u001b[0;36m_conv_forward\u001b[0;34m(self, input, weight)\u001b[0m\n\u001b[1;32m    418\u001b[0m                             _pair(0), self.dilation, self.groups)\n\u001b[1;32m    419\u001b[0m         return F.conv2d(input, weight, self.bias, self.stride,\n\u001b[0;32m--> 420\u001b[0;31m                         self.padding, self.dilation, self.groups)\n\u001b[0m\u001b[1;32m    421\u001b[0m \u001b[0;34m\u001b[0m\u001b[0m\n\u001b[1;32m    422\u001b[0m     \u001b[0;32mdef\u001b[0m \u001b[0mforward\u001b[0m\u001b[0;34m(\u001b[0m\u001b[0mself\u001b[0m\u001b[0;34m,\u001b[0m \u001b[0minput\u001b[0m\u001b[0;34m:\u001b[0m \u001b[0mTensor\u001b[0m\u001b[0;34m)\u001b[0m \u001b[0;34m->\u001b[0m \u001b[0mTensor\u001b[0m\u001b[0;34m:\u001b[0m\u001b[0;34m\u001b[0m\u001b[0;34m\u001b[0m\u001b[0m\n",
      "\u001b[0;31mRuntimeError\u001b[0m: expected scalar type Byte but found Float"
     ]
    }
   ],
   "source": [
    "b_out = conv(b)"
   ]
  },
  {
   "cell_type": "markdown",
   "id": "incredible-yield",
   "metadata": {},
   "source": [
    "### 3.6 pytorch 目前无法量化的缘故（猜测）\n",
    "- https://pytorch.org/docs/stable/generated/torch.nn.Conv2d.html\n",
    "- https://www.tensorflow.org/api_docs/python/tf/nn/conv2d#args\n",
    "\n",
    "for pytorch:\n",
    "> This module supports TensorFloat32.\n",
    "\n",
    "for tensorflow:\n",
    "> A Tensor. Must be one of the following types: half, bfloat16, float32, float64."
   ]
  },
  {
   "cell_type": "code",
   "execution_count": null,
   "id": "aggregate-arabic",
   "metadata": {},
   "outputs": [],
   "source": []
  }
 ],
 "metadata": {
  "kernelspec": {
   "display_name": "Python 3",
   "language": "python",
   "name": "python3"
  },
  "language_info": {
   "codemirror_mode": {
    "name": "ipython",
    "version": 3
   },
   "file_extension": ".py",
   "mimetype": "text/x-python",
   "name": "python",
   "nbconvert_exporter": "python",
   "pygments_lexer": "ipython3",
   "version": "3.6.12"
  }
 },
 "nbformat": 4,
 "nbformat_minor": 5
}
